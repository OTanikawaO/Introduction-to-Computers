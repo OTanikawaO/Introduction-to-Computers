{
  "nbformat": 4,
  "nbformat_minor": 0,
  "metadata": {
    "colab": {
      "provenance": [],
      "authorship_tag": "ABX9TyNxeaU9dAKUHO1SfL99hScw",
      "include_colab_link": true
    },
    "kernelspec": {
      "name": "python3",
      "display_name": "Python 3"
    },
    "language_info": {
      "name": "python"
    }
  },
  "cells": [
    {
      "cell_type": "markdown",
      "metadata": {
        "id": "view-in-github",
        "colab_type": "text"
      },
      "source": [
        "<a href=\"https://colab.research.google.com/github/OTanikawaO/Introduction-to-Computers/blob/main/0508.ipynb\" target=\"_parent\"><img src=\"https://colab.research.google.com/assets/colab-badge.svg\" alt=\"Open In Colab\"/></a>"
      ]
    },
    {
      "cell_type": "code",
      "execution_count": 17,
      "metadata": {
        "colab": {
          "base_uri": "https://localhost:8080/"
        },
        "id": "pXeDwWLPYcKm",
        "outputId": "4aaf9c15-9aed-4efe-f038-5b9b946ffae5"
      },
      "outputs": [
        {
          "output_type": "stream",
          "name": "stdout",
          "text": [
            "請輸入體溫:37.5\n",
            "體溫過高!\n"
          ]
        }
      ],
      "source": [
        "a=float(input(\"請輸入體溫:\"))\n",
        "if a>=34:\n",
        "  if a<=36.9:\n",
        "    print(\"體溫正常!\")\n",
        "  elif a<=37.4:\n",
        "    print(\"體溫略高!\")\n",
        "  else:\n",
        "    print(\"體溫過高!\")\n",
        "else:\n",
        "  print(\"體溫異常，請重新測量!\")"
      ]
    },
    {
      "cell_type": "code",
      "source": [
        "a=int(input(\"請輸入成績:\"))\n",
        "if a>=60:\n",
        "  if a>=90:\n",
        "    print(\"A\")\n",
        "  elif a>=80:\n",
        "    print(\"B\")\n",
        "  elif a>=70:\n",
        "    print(\"C\")\n",
        "  else:\n",
        "    print(\"D\")\n",
        "else:\n",
        "  print(\"E\")"
      ],
      "metadata": {
        "colab": {
          "base_uri": "https://localhost:8080/"
        },
        "id": "y2xkPG-xYmG8",
        "outputId": "7d1a54cf-7f32-481a-aee2-2ea0657d1f21"
      },
      "execution_count": 15,
      "outputs": [
        {
          "output_type": "stream",
          "name": "stdout",
          "text": [
            "請輸入成績:33\n",
            "E\n"
          ]
        }
      ]
    },
    {
      "cell_type": "code",
      "source": [
        "a=int(input(\"請輸入月份:\"))\n",
        "if a==3 or a==4 or a==5:\n",
        "  print(\"{}月是春天!\".format(a))\n",
        "elif a==6 or a==7 or a==8:\n",
        "  print(\"{}月是夏天!\".format(a))\n",
        "elif a==9 or a==10 or a==11:\n",
        "  print(\"{}月是秋天!\".format(a))\n",
        "elif a==12 or a==1 or a==2:\n",
        "  print(\"{}月是冬天!\".format(a))\n",
        "else:\n",
        "  print(\"此月份不在範圍內!\")"
      ],
      "metadata": {
        "colab": {
          "base_uri": "https://localhost:8080/"
        },
        "id": "cmuNX9gbYmFF",
        "outputId": "0963b844-ffa2-4a94-f3fa-3acc97ea7cac"
      },
      "execution_count": 36,
      "outputs": [
        {
          "output_type": "stream",
          "name": "stdout",
          "text": [
            "請輸入月份:22\n",
            "此月份不在範圍內!\n"
          ]
        }
      ]
    }
  ]
}